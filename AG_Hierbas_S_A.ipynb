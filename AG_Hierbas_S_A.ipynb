{
  "nbformat": 4,
  "nbformat_minor": 0,
  "metadata": {
    "colab": {
      "provenance": []
    },
    "kernelspec": {
      "name": "python3",
      "display_name": "Python 3"
    },
    "language_info": {
      "name": "python"
    }
  },
  "cells": [
    {
      "cell_type": "markdown",
      "source": [
        "<img src=\"https://upload.wikimedia.org/wikipedia/commons/thumb/f/ff/Logo_uninorte_colombia.jpg/1200px-Logo_uninorte_colombia.jpg\" width=70%></img>\n",
        "\n",
        "<font size=12>Algoritmos Y Complejidad</font>\\\n",
        "<font size=6>Algoritmos Geneticos: Problema de las plantas</font>"
      ],
      "metadata": {
        "id": "HvI5QxIdlLpj"
      }
    },
    {
      "cell_type": "markdown",
      "source": [
        "Héctor Andrés Suárez Camacho - 200162159 \\\n",
        "Fernando Mateo Valencia Gómez - 200166289\\\n",
        "Santiago Carbal Martinez - 200152335\\\n",
        "Santiago Hernández Cadavid - 200153162\n"
      ],
      "metadata": {
        "id": "PHXuLtBZmMHG"
      }
    },
    {
      "cell_type": "code",
      "execution_count": 92,
      "metadata": {
        "id": "nGzqC532a-ak"
      },
      "outputs": [],
      "source": [
        "import random\n",
        "import pandas as pd\n",
        "import numpy as np\n",
        "from google.colab import data_table\n",
        "data_table.enable_dataframe_formatter()"
      ]
    },
    {
      "cell_type": "markdown",
      "source": [
        "Un diccionario para guardar los posibles valores de cada gen"
      ],
      "metadata": {
        "id": "rWrrelDH05VK"
      }
    },
    {
      "cell_type": "code",
      "source": [
        "# Definir los posibles valores de cada gen\n",
        "genes = {\n",
        "    'resistencia_humedad': ['A', 'B'],\n",
        "    'resistencia_calor': ['A', 'B'],\n",
        "    'numero_hojas': ['A', 'B'],\n",
        "    'altura_tallo': ['A', 'B']\n",
        "}"
      ],
      "metadata": {
        "id": "c2KxzPx9vUpv"
      },
      "execution_count": 93,
      "outputs": []
    },
    {
      "cell_type": "markdown",
      "source": [
        "Esta función calcula el fitness de cada individuo, \"bit por bit\" para comprobar que tan bueno es comparandolo con el cromosoma objetivo:\\\n",
        "\n",
        "por ejemplo, el mejor cromosoma es AAAB, y tiene fitness de 8.\n",
        "\n",
        "\n",
        "* Gen de resistencia a la humedad, si es A se otorga 2\n",
        "*   Gen de resistencia al calor, si es A se otorga 2\n",
        "*   Numero de hojas, si es A se otorga 3\n",
        "* Altura del tallo, si es B se otorga 1\n",
        "\n",
        "\n",
        "\n"
      ],
      "metadata": {
        "id": "5NkavCay044N"
      }
    },
    {
      "cell_type": "code",
      "source": [
        "# Definir el cromosoma objetivo\n",
        "objetivo = 'AAAB'\n",
        "\n",
        "# Definir la función de aptitud para evaluar la calidad de cada individuo\n",
        "def aptitud(cromosoma):\n",
        "    puntaje = 0\n",
        "    for i in range(len(objetivo)):\n",
        "        if cromosoma[i] == objetivo[i]:\n",
        "            if i == 0 or i == 1:\n",
        "                puntaje += 2\n",
        "            elif i == 2:\n",
        "                puntaje += 3\n",
        "            else:\n",
        "                puntaje += 1\n",
        "    return puntaje"
      ],
      "metadata": {
        "id": "DylF7vRh0nq3"
      },
      "execution_count": 94,
      "outputs": []
    },
    {
      "cell_type": "markdown",
      "source": [
        "Esta función pone a competir dos individuos de la población para escoger a los de mejor fitness. Escoge de a dos y los compara, el de mejor fitness se va para la lista de selección y cuando el torneo ya ha terminado, los de la lista de selección pasan a ser la nueva generación."
      ],
      "metadata": {
        "id": "8GoYrZTU04LC"
      }
    },
    {
      "cell_type": "code",
      "source": [
        "# Definir la función de selección por torneo\n",
        "def seleccion_torneo(poblacion, n):\n",
        "    seleccionados = []\n",
        "    recuento = {}\n",
        "    for individuo in poblacion:\n",
        "        recuento[individuo] = 0\n",
        "\n",
        "    for i in range(n):\n",
        "        individuos = random.sample(poblacion, 2)\n",
        "        aptitud1 = aptitud(individuos[0])\n",
        "        aptitud2 = aptitud(individuos[1])\n",
        "        if aptitud1 > aptitud2:\n",
        "            seleccionados.append(individuos[0])\n",
        "            recuento[individuos[0]] += 1\n",
        "        else:\n",
        "            seleccionados.append(individuos[1])\n",
        "            recuento[individuos[1]] += 1\n",
        "    return seleccionados, recuento"
      ],
      "metadata": {
        "id": "7_UZCJF70qW0"
      },
      "execution_count": 95,
      "outputs": []
    },
    {
      "cell_type": "markdown",
      "source": [
        "En esta función de cruce, divide a los cromosomas padres por el punto de cruce y los combina para formar hijos:\n",
        "\n",
        "\n",
        "*   Punto de cruce: 2\n",
        "*   Padre 1: AA|BA\n",
        "*   PAdre 2: BB|AA\n",
        "\n",
        "*   Hijo 1: AAAA\n",
        "*   hijo 2: BBBA\n",
        "\n",
        "\n"
      ],
      "metadata": {
        "id": "T3MLCWeV03tS"
      }
    },
    {
      "cell_type": "code",
      "source": [
        "# Definir la función de cruce en un punto\n",
        "def cruce(individuo1, individuo2, crossover_point):\n",
        "    hijo1 = individuo1[:crossover_point] + individuo2[crossover_point:]  # subcadena[inicio:final:saltos]\n",
        "    hijo2 = individuo2[:crossover_point] + individuo1[crossover_point:]\n",
        "    return hijo1, hijo2"
      ],
      "metadata": {
        "id": "4B1qaP6q0sXM"
      },
      "execution_count": 96,
      "outputs": []
    },
    {
      "cell_type": "markdown",
      "source": [
        "La mutación altera un gen de un cromosoma con el proposito de añadir diversidad a las poblaciones. Esto se hace con el proposito de que intente encontrar una solución optma en otra parte del espacio muestral.\n",
        "\n",
        "En este caso: Se recorre cada gen del cromosoma y se saca un número aleatoria, si esta dentro del 0.1 de probabilidades de mutar, mutará.\n",
        "\n",
        "ejemplo: Tenemos AAAA, y recorriendo los genes individualmente, el ultimo gen A muta a B, por lo tanto quedaría AAAB"
      ],
      "metadata": {
        "id": "5w344gtx03bk"
      }
    },
    {
      "cell_type": "code",
      "source": [
        "# Definir la función de mutación\n",
        "def mutacion(individuo):\n",
        "    indice = random.randint(0, len(objetivo)-1)\n",
        "    nuevo_valor = random.choice(genes[list(genes.keys())[indice]])\n",
        "    individuo_mutado = individuo[:indice] + nuevo_valor + individuo[indice+1:]\n",
        "    return individuo_mutado"
      ],
      "metadata": {
        "id": "mv2p2k_L0x9X"
      },
      "execution_count": 97,
      "outputs": []
    },
    {
      "cell_type": "markdown",
      "source": [
        "Aquí de definen los parámetros del algoritmo genetico. \\\n",
        "\n",
        "Se pasa la población inicial, el número de generaciones que se van a ejecutar, el tamaño del torneo para indicar de a cuantos individuos se van a comparar en el torneo, en este caso de a pares. Y por ultimo las probabilidades de emparejamiento y mutación."
      ],
      "metadata": {
        "id": "8B0XqNd803DR"
      }
    },
    {
      "cell_type": "code",
      "source": [
        "# Definir los parámetros del algoritmo genético\n",
        "poblacion = ['BAAA', 'BBBB', 'ABBA', 'BABA']  # Población inicial\n",
        "num_generaciones = 2  # Número de generaciones a simular\n",
        "tam_torneo = 2  # Tamaño del torneo para la selección\n",
        "pe = 0.7  # Probabilidad de emparejamiento\n",
        "pm = 0.1  # Probabilidad de mutación"
      ],
      "metadata": {
        "id": "fDzTD0d200KO"
      },
      "execution_count": 98,
      "outputs": []
    },
    {
      "cell_type": "markdown",
      "source": [
        "Se crea el dataframe para visualizar la salida de una mejor manera"
      ],
      "metadata": {
        "id": "uz5MOSQS02vv"
      }
    },
    {
      "cell_type": "code",
      "source": [
        "# Crear un DataFrame para almacenar los resultados\n",
        "columnas = ['Generación', 'Población', 'Fitness', 'Probabilities', 'Count', 'Mating Pool', 'Crossover Point', 'Offspring After Xover', 'Fitness Post Xover', 'Mutation', 'Mutation Chromosome','Fitness Post Mutation' ]\n",
        "resultados = pd.DataFrame(columns=columnas)\n"
      ],
      "metadata": {
        "id": "ORV8UVDovXXy"
      },
      "execution_count": 99,
      "outputs": []
    },
    {
      "cell_type": "markdown",
      "source": [
        "Como funciona la solución:\n",
        "\n",
        "* Cada iteración del bucle for representa una generación\n",
        "* En cada generación se evalua el fitness de cada individuo en la población actual.\n",
        "* Luego se realiza un torneo para elegir a las parejas de padres que van a cruzarse, es decir, se escogen a los mejores individuos y se cruzan.\n",
        "* Una vez se tiene la mating pool, se calculan los puntos de cruce para cada pareja.\n",
        "* Luego se hace el cruce y se obtienen los hijos; dos hijos por cada pareja.\n",
        "* Luego se calcula el fitnes de los nuevos individuos (hijos).\n",
        "* Luego se revisa cada gen de cada hijo y de acuerdo a la probabilidad de mutación, mutará el gen o no\n",
        "* Si muta, vuelve a calcular el fitness de la población\n",
        "*Esa sería una generación y se repiten los pasos."
      ],
      "metadata": {
        "id": "DqNAZIMQjs-l"
      }
    },
    {
      "cell_type": "code",
      "source": [
        "\n",
        "# Ejecutar el algoritmo genético\n",
        "for generacion in range(num_generaciones):\n",
        "    # Evaluar la aptitud de cada individuo\n",
        "    aptitudes = [aptitud(individuo) for individuo in poblacion]\n",
        "\n",
        "    # Seleccionar la nueva población mediante el torneo\n",
        "    seleccionados, recuento = seleccion_torneo(poblacion, len(poblacion))\n",
        "\n",
        "    # Calcular la aptitud total y las probabilidades de selección\n",
        "    total_aptitud = sum(aptitudes)\n",
        "    probabilidades = [aptitud / total_aptitud for aptitud in aptitudes]\n",
        "\n",
        "    # Crear el DataFrame de la generación actual\n",
        "    generacion_actual = pd.DataFrame(columns=columnas)\n",
        "\n",
        "    # Agregar los datos a la tabla de resultados de la generación actual\n",
        "    generacion_actual['Generación'] = [generacion + 1] * len(poblacion)\n",
        "    generacion_actual['Población'] = poblacion\n",
        "    generacion_actual['Fitness'] = aptitudes\n",
        "    generacion_actual['Probabilities'] = probabilidades\n",
        "    generacion_actual['Count'] = [recuento[individuo] for individuo in poblacion]\n",
        "\n",
        "    # Seleccionar la mating pool\n",
        "    mating_pool = seleccionados\n",
        "\n",
        "    # Ajustar la longitud de la mating pool si es necesario\n",
        "    if len(mating_pool) != len(poblacion):\n",
        "        mating_pool = pd.Series(mating_pool)  # Convertir a una Serie de pandas\n",
        "        generacion_actual['Mating Pool'] = mating_pool\n",
        "    else:\n",
        "        generacion_actual['Mating Pool'] = mating_pool\n",
        "\n",
        "    # Llenar los valores faltantes con NaN\n",
        "    generacion_actual['Mating Pool'] = generacion_actual['Mating Pool'].fillna(np.nan)\n",
        "\n",
        "    # Actualizar los valores faltantes con los valores correspondientes\n",
        "    for i in range(len(generacion_actual)):\n",
        "        if pd.isnull(generacion_actual.loc[i, 'Mating Pool']):\n",
        "            generacion_actual.loc[i, 'Mating Pool'] = random.choice(mating_pool)\n",
        "\n",
        "    # Realizar el cruce en un punto\n",
        "    offspring = []\n",
        "    crossover_points = [random.randint(1, len(objetivo)-1) for _ in range(len(mating_pool)//2)]\n",
        "    for i in range(0, len(mating_pool), 2):\n",
        "        pair = mating_pool[i:i+2]\n",
        "        crossover_point = crossover_points[i//2]  # Obtener el crossover point correspondiente a la pareja actual\n",
        "        if random.random() < pe:\n",
        "            hijo1, hijo2 = cruce(pair[0], pair[1], crossover_point)\n",
        "            offspring.append(hijo1)\n",
        "            offspring.append(hijo2)\n",
        "        else:\n",
        "            offspring.append(pair[0])\n",
        "            offspring.append(pair[1])\n",
        "\n",
        "    # Ajustar la longitud de los offspring para que coincida con la población\n",
        "    offspring = offspring[:len(poblacion)]\n",
        "\n",
        "    # Agregar los datos de los offspring después del cruce a la tabla de resultados\n",
        "    generacion_actual['Crossover Point'] = crossover_points * 2  # Repetir los valores de crossover_points para cada pareja\n",
        "    generacion_actual['Offspring After Xover'] = offspring\n",
        "    generacion_actual['Fitness Post Xover'] = [aptitud(individuo) for individuo in offspring]\n",
        "\n",
        "    # Realizar la mutación\n",
        "    nuevos_cromosomas = []\n",
        "    for i in range(len(offspring)):\n",
        "        if random.random() < pm:\n",
        "            mutado = mutacion(offspring[i])\n",
        "            nuevos_cromosomas.append(mutado)\n",
        "            offspring[i] = mutado\n",
        "        else:\n",
        "            nuevos_cromosomas.append(offspring[i])\n",
        "\n",
        "    # Agregar los datos de la mutación a la tabla de resultados\n",
        "    generacion_actual['Mutation'] = [True if offspring[i] != generacion_actual['Offspring After Xover'][i] else False for i in range(len(offspring))]\n",
        "    generacion_actual['Mutation Chromosome'] = nuevos_cromosomas\n",
        "    generacion_actual['Fitness Post Mutation'] = [aptitud(individuo) for individuo in offspring]\n",
        "\n",
        "\n",
        "    # Actualizar la población\n",
        "    poblacion = offspring\n",
        "\n",
        "    # Agregar la generación actual a los resultados\n",
        "    resultados = pd.concat([resultados, generacion_actual], ignore_index=True)\n",
        "\n",
        "    # Mostrar la generación actual\n",
        "    print(f\"Generación {generacion + 1}:\")\n",
        "    display(data_table.DataTable(resultados[resultados['Generación'] == generacion+1], include_index=False))\n",
        "    print(\"----------------------------------------\")\n"
      ],
      "metadata": {
        "colab": {
          "base_uri": "https://localhost:8080/",
          "height": 401
        },
        "id": "dzqvLJKuaR4h",
        "outputId": "105316ee-91b7-4080-aa46-5b347c99221b"
      },
      "execution_count": 100,
      "outputs": [
        {
          "output_type": "stream",
          "name": "stdout",
          "text": [
            "Generación 1:\n"
          ]
        },
        {
          "output_type": "display_data",
          "data": {
            "text/html": [
              "<div>\n",
              "<style scoped>\n",
              "    .dataframe tbody tr th:only-of-type {\n",
              "        vertical-align: middle;\n",
              "    }\n",
              "\n",
              "    .dataframe tbody tr th {\n",
              "        vertical-align: top;\n",
              "    }\n",
              "\n",
              "    .dataframe thead th {\n",
              "        text-align: right;\n",
              "    }\n",
              "</style>\n",
              "<table border=\"1\" class=\"dataframe\">\n",
              "  <thead>\n",
              "    <tr style=\"text-align: right;\">\n",
              "      <th></th>\n",
              "      <th>Generación</th>\n",
              "      <th>Población</th>\n",
              "      <th>Fitness</th>\n",
              "      <th>Probabilities</th>\n",
              "      <th>Count</th>\n",
              "      <th>Mating Pool</th>\n",
              "      <th>Crossover Point</th>\n",
              "      <th>Offspring After Xover</th>\n",
              "      <th>Fitness Post Xover</th>\n",
              "      <th>Mutation</th>\n",
              "      <th>Mutation Chromosome</th>\n",
              "      <th>Fitness Post Mutation</th>\n",
              "    </tr>\n",
              "  </thead>\n",
              "  <tbody>\n",
              "    <tr>\n",
              "      <th>0</th>\n",
              "      <td>1</td>\n",
              "      <td>BAAA</td>\n",
              "      <td>5</td>\n",
              "      <td>0.5</td>\n",
              "      <td>2</td>\n",
              "      <td>BABA</td>\n",
              "      <td>2</td>\n",
              "      <td>BABA</td>\n",
              "      <td>2</td>\n",
              "      <td>False</td>\n",
              "      <td>BABA</td>\n",
              "      <td>2</td>\n",
              "    </tr>\n",
              "    <tr>\n",
              "      <th>1</th>\n",
              "      <td>1</td>\n",
              "      <td>BBBB</td>\n",
              "      <td>1</td>\n",
              "      <td>0.1</td>\n",
              "      <td>0</td>\n",
              "      <td>ABBA</td>\n",
              "      <td>3</td>\n",
              "      <td>ABBA</td>\n",
              "      <td>2</td>\n",
              "      <td>False</td>\n",
              "      <td>ABBA</td>\n",
              "      <td>2</td>\n",
              "    </tr>\n",
              "    <tr>\n",
              "      <th>2</th>\n",
              "      <td>1</td>\n",
              "      <td>ABBA</td>\n",
              "      <td>2</td>\n",
              "      <td>0.2</td>\n",
              "      <td>1</td>\n",
              "      <td>BAAA</td>\n",
              "      <td>2</td>\n",
              "      <td>BAAA</td>\n",
              "      <td>5</td>\n",
              "      <td>False</td>\n",
              "      <td>BAAA</td>\n",
              "      <td>5</td>\n",
              "    </tr>\n",
              "    <tr>\n",
              "      <th>3</th>\n",
              "      <td>1</td>\n",
              "      <td>BABA</td>\n",
              "      <td>2</td>\n",
              "      <td>0.2</td>\n",
              "      <td>1</td>\n",
              "      <td>BAAA</td>\n",
              "      <td>3</td>\n",
              "      <td>BAAA</td>\n",
              "      <td>5</td>\n",
              "      <td>False</td>\n",
              "      <td>BAAA</td>\n",
              "      <td>5</td>\n",
              "    </tr>\n",
              "  </tbody>\n",
              "</table>\n",
              "</div>"
            ],
            "application/vnd.google.colaboratory.module+javascript": "\n      import \"https://ssl.gstatic.com/colaboratory/data_table/99dac6621f6ae8c4/data_table.js\";\n\n      window.createDataTable({\n        data: [[{\n            'v': 1,\n            'f': \"1\",\n        },\n\"BAAA\",\n{\n            'v': 5,\n            'f': \"5\",\n        },\n{\n            'v': 0.5,\n            'f': \"0.5\",\n        },\n{\n            'v': 2,\n            'f': \"2\",\n        },\n\"BABA\",\n{\n            'v': 2,\n            'f': \"2\",\n        },\n\"BABA\",\n{\n            'v': 2,\n            'f': \"2\",\n        },\nfalse,\n\"BABA\",\n{\n            'v': 2,\n            'f': \"2\",\n        }],\n [{\n            'v': 1,\n            'f': \"1\",\n        },\n\"BBBB\",\n{\n            'v': 1,\n            'f': \"1\",\n        },\n{\n            'v': 0.1,\n            'f': \"0.1\",\n        },\n{\n            'v': 0,\n            'f': \"0\",\n        },\n\"ABBA\",\n{\n            'v': 3,\n            'f': \"3\",\n        },\n\"ABBA\",\n{\n            'v': 2,\n            'f': \"2\",\n        },\nfalse,\n\"ABBA\",\n{\n            'v': 2,\n            'f': \"2\",\n        }],\n [{\n            'v': 1,\n            'f': \"1\",\n        },\n\"ABBA\",\n{\n            'v': 2,\n            'f': \"2\",\n        },\n{\n            'v': 0.2,\n            'f': \"0.2\",\n        },\n{\n            'v': 1,\n            'f': \"1\",\n        },\n\"BAAA\",\n{\n            'v': 2,\n            'f': \"2\",\n        },\n\"BAAA\",\n{\n            'v': 5,\n            'f': \"5\",\n        },\nfalse,\n\"BAAA\",\n{\n            'v': 5,\n            'f': \"5\",\n        }],\n [{\n            'v': 1,\n            'f': \"1\",\n        },\n\"BABA\",\n{\n            'v': 2,\n            'f': \"2\",\n        },\n{\n            'v': 0.2,\n            'f': \"0.2\",\n        },\n{\n            'v': 1,\n            'f': \"1\",\n        },\n\"BAAA\",\n{\n            'v': 3,\n            'f': \"3\",\n        },\n\"BAAA\",\n{\n            'v': 5,\n            'f': \"5\",\n        },\nfalse,\n\"BAAA\",\n{\n            'v': 5,\n            'f': \"5\",\n        }]],\n        columns: [[\"number\", \"Generaci\\u00f3n\"], [\"string\", \"Poblaci\\u00f3n\"], [\"number\", \"Fitness\"], [\"number\", \"Probabilities\"], [\"number\", \"Count\"], [\"string\", \"Mating Pool\"], [\"number\", \"Crossover Point\"], [\"string\", \"Offspring After Xover\"], [\"number\", \"Fitness Post Xover\"], [\"string\", \"Mutation\"], [\"string\", \"Mutation Chromosome\"], [\"number\", \"Fitness Post Mutation\"]],\n        columnOptions: [],\n        rowsPerPage: 25,\n        helpUrl: \"https://colab.research.google.com/notebooks/data_table.ipynb\",\n        suppressOutputScrolling: true,\n        minimumWidth: undefined,\n      });\n    ",
            "text/plain": [
              "<google.colab.data_table.DataTable object>"
            ]
          },
          "metadata": {}
        },
        {
          "output_type": "stream",
          "name": "stdout",
          "text": [
            "----------------------------------------\n",
            "Generación 2:\n"
          ]
        },
        {
          "output_type": "display_data",
          "data": {
            "text/html": [
              "<div>\n",
              "<style scoped>\n",
              "    .dataframe tbody tr th:only-of-type {\n",
              "        vertical-align: middle;\n",
              "    }\n",
              "\n",
              "    .dataframe tbody tr th {\n",
              "        vertical-align: top;\n",
              "    }\n",
              "\n",
              "    .dataframe thead th {\n",
              "        text-align: right;\n",
              "    }\n",
              "</style>\n",
              "<table border=\"1\" class=\"dataframe\">\n",
              "  <thead>\n",
              "    <tr style=\"text-align: right;\">\n",
              "      <th></th>\n",
              "      <th>Generación</th>\n",
              "      <th>Población</th>\n",
              "      <th>Fitness</th>\n",
              "      <th>Probabilities</th>\n",
              "      <th>Count</th>\n",
              "      <th>Mating Pool</th>\n",
              "      <th>Crossover Point</th>\n",
              "      <th>Offspring After Xover</th>\n",
              "      <th>Fitness Post Xover</th>\n",
              "      <th>Mutation</th>\n",
              "      <th>Mutation Chromosome</th>\n",
              "      <th>Fitness Post Mutation</th>\n",
              "    </tr>\n",
              "  </thead>\n",
              "  <tbody>\n",
              "    <tr>\n",
              "      <th>4</th>\n",
              "      <td>2</td>\n",
              "      <td>BABA</td>\n",
              "      <td>2</td>\n",
              "      <td>0.142857</td>\n",
              "      <td>1</td>\n",
              "      <td>BAAA</td>\n",
              "      <td>2</td>\n",
              "      <td>BAAA</td>\n",
              "      <td>5</td>\n",
              "      <td>False</td>\n",
              "      <td>BAAA</td>\n",
              "      <td>5</td>\n",
              "    </tr>\n",
              "    <tr>\n",
              "      <th>5</th>\n",
              "      <td>2</td>\n",
              "      <td>ABBA</td>\n",
              "      <td>2</td>\n",
              "      <td>0.142857</td>\n",
              "      <td>0</td>\n",
              "      <td>BAAA</td>\n",
              "      <td>2</td>\n",
              "      <td>BAAA</td>\n",
              "      <td>5</td>\n",
              "      <td>False</td>\n",
              "      <td>BAAA</td>\n",
              "      <td>5</td>\n",
              "    </tr>\n",
              "    <tr>\n",
              "      <th>6</th>\n",
              "      <td>2</td>\n",
              "      <td>BAAA</td>\n",
              "      <td>5</td>\n",
              "      <td>0.357143</td>\n",
              "      <td>3</td>\n",
              "      <td>BABA</td>\n",
              "      <td>2</td>\n",
              "      <td>BAAA</td>\n",
              "      <td>5</td>\n",
              "      <td>False</td>\n",
              "      <td>BAAA</td>\n",
              "      <td>5</td>\n",
              "    </tr>\n",
              "    <tr>\n",
              "      <th>7</th>\n",
              "      <td>2</td>\n",
              "      <td>BAAA</td>\n",
              "      <td>5</td>\n",
              "      <td>0.357143</td>\n",
              "      <td>3</td>\n",
              "      <td>BAAA</td>\n",
              "      <td>2</td>\n",
              "      <td>BABA</td>\n",
              "      <td>2</td>\n",
              "      <td>False</td>\n",
              "      <td>BABA</td>\n",
              "      <td>2</td>\n",
              "    </tr>\n",
              "  </tbody>\n",
              "</table>\n",
              "</div>"
            ],
            "application/vnd.google.colaboratory.module+javascript": "\n      import \"https://ssl.gstatic.com/colaboratory/data_table/99dac6621f6ae8c4/data_table.js\";\n\n      window.createDataTable({\n        data: [[{\n            'v': 2,\n            'f': \"2\",\n        },\n\"BABA\",\n{\n            'v': 2,\n            'f': \"2\",\n        },\n{\n            'v': 0.14285714285714285,\n            'f': \"0.14285714285714285\",\n        },\n{\n            'v': 1,\n            'f': \"1\",\n        },\n\"BAAA\",\n{\n            'v': 2,\n            'f': \"2\",\n        },\n\"BAAA\",\n{\n            'v': 5,\n            'f': \"5\",\n        },\nfalse,\n\"BAAA\",\n{\n            'v': 5,\n            'f': \"5\",\n        }],\n [{\n            'v': 2,\n            'f': \"2\",\n        },\n\"ABBA\",\n{\n            'v': 2,\n            'f': \"2\",\n        },\n{\n            'v': 0.14285714285714285,\n            'f': \"0.14285714285714285\",\n        },\n{\n            'v': 0,\n            'f': \"0\",\n        },\n\"BAAA\",\n{\n            'v': 2,\n            'f': \"2\",\n        },\n\"BAAA\",\n{\n            'v': 5,\n            'f': \"5\",\n        },\nfalse,\n\"BAAA\",\n{\n            'v': 5,\n            'f': \"5\",\n        }],\n [{\n            'v': 2,\n            'f': \"2\",\n        },\n\"BAAA\",\n{\n            'v': 5,\n            'f': \"5\",\n        },\n{\n            'v': 0.35714285714285715,\n            'f': \"0.35714285714285715\",\n        },\n{\n            'v': 3,\n            'f': \"3\",\n        },\n\"BABA\",\n{\n            'v': 2,\n            'f': \"2\",\n        },\n\"BAAA\",\n{\n            'v': 5,\n            'f': \"5\",\n        },\nfalse,\n\"BAAA\",\n{\n            'v': 5,\n            'f': \"5\",\n        }],\n [{\n            'v': 2,\n            'f': \"2\",\n        },\n\"BAAA\",\n{\n            'v': 5,\n            'f': \"5\",\n        },\n{\n            'v': 0.35714285714285715,\n            'f': \"0.35714285714285715\",\n        },\n{\n            'v': 3,\n            'f': \"3\",\n        },\n\"BAAA\",\n{\n            'v': 2,\n            'f': \"2\",\n        },\n\"BABA\",\n{\n            'v': 2,\n            'f': \"2\",\n        },\nfalse,\n\"BABA\",\n{\n            'v': 2,\n            'f': \"2\",\n        }]],\n        columns: [[\"number\", \"Generaci\\u00f3n\"], [\"string\", \"Poblaci\\u00f3n\"], [\"number\", \"Fitness\"], [\"number\", \"Probabilities\"], [\"number\", \"Count\"], [\"string\", \"Mating Pool\"], [\"number\", \"Crossover Point\"], [\"string\", \"Offspring After Xover\"], [\"number\", \"Fitness Post Xover\"], [\"string\", \"Mutation\"], [\"string\", \"Mutation Chromosome\"], [\"number\", \"Fitness Post Mutation\"]],\n        columnOptions: [],\n        rowsPerPage: 25,\n        helpUrl: \"https://colab.research.google.com/notebooks/data_table.ipynb\",\n        suppressOutputScrolling: true,\n        minimumWidth: undefined,\n      });\n    ",
            "text/plain": [
              "<google.colab.data_table.DataTable object>"
            ]
          },
          "metadata": {}
        },
        {
          "output_type": "stream",
          "name": "stdout",
          "text": [
            "----------------------------------------\n"
          ]
        }
      ]
    }
  ]
}