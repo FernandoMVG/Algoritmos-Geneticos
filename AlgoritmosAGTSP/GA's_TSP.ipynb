{
  "cells": [
    {
      "cell_type": "markdown",
      "metadata": {
        "id": "MIFPcEDRuuv7"
      },
      "source": [
        "<img src=\"https://upload.wikimedia.org/wikipedia/commons/thumb/f/ff/Logo_uninorte_colombia.jpg/1200px-Logo_uninorte_colombia.jpg\" width=70%></img>\n",
        "\n",
        "<font size=12>Algoritmos Y Complejidad</font>\\\n",
        "<font size=6>Algoritmos Geneticos: TSP</font>"
      ]
    },
    {
      "cell_type": "markdown",
      "metadata": {
        "id": "_f9ALbh-uv-i"
      },
      "source": [
        "Héctor Andrés Suárez Camacho - 200162159 \\\n",
        "Fernando Mateo Valencia Gómez - 200166289\\\n",
        "Santiago Carbal Martinez - 200152335\\\n",
        "Santiago Hernández Cadavid - 200153162"
      ]
    },
    {
      "cell_type": "code",
      "execution_count": 1,
      "metadata": {
        "id": "w07AfTXUjAlg"
      },
      "outputs": [],
      "source": [
        "import random\n",
        "import numpy as np\n",
        "import matplotlib.pyplot as plt\n",
        "import pandas as pd\n",
        "import networkx as nx\n",
        "import itertools\n"
      ]
    },
    {
      "cell_type": "markdown",
      "metadata": {
        "id": "qJK5j3Ebo0Ut"
      },
      "source": [
        "#Colombia_TSP "
      ]
    },
    {
      "cell_type": "markdown",
      "metadata": {
        "id": "NfgMgdZXsSuA"
      },
      "source": [
        "Explicación de nuestra solución:\n",
        "\n",
        "\n",
        "1.   Lo primero que hacemos es leer la matriz de distancia del archivo de excel.\n",
        "2.   Luego obtenemos la lista de las ciudades de la primera fila del archivo.\n",
        "3.   Después creamos la matriz de distancias para un acceso más fácil.\n",
        "4.   Luego generamos unas coordenadas aleatorias para representar cada ciudad\n",
        "\n",
        "\n"
      ]
    },
    {
      "cell_type": "code",
      "execution_count": null,
      "metadata": {
        "id": "LI7bezrXv8WL"
      },
      "outputs": [],
      "source": [
        "# Leer el archivo de Excel con la matriz de distancias\n",
        "distances_df = pd.read_excel(\"colombia.xlsx\", sheet_name=\"colombia\")\n",
        "\n",
        "# Obtener la lista de ciudades desde la primera fila\n",
        "ciudades = distances_df.columns[:].tolist()\n",
        "\n",
        "# Crear una matriz de distancias a partir del DataFrame\n",
        "distances = distances_df.values\n",
        "\n",
        "# Obtener las coordenadas aleatorias para cada ciudad\n",
        "coordenadas = []\n",
        "for _ in range(len(ciudades)):\n",
        "    latitud = random.uniform(2, 13)  # Rango de latitudes para Colombia\n",
        "    longitud = random.uniform(-80, -67)  # Rango de longitudes para Colombia\n",
        "    coordenadas.append((latitud, longitud))"
      ]
    },
    {
      "cell_type": "markdown",
      "metadata": {
        "id": "oZ26bJenv9MO"
      },
      "source": [
        "\n",
        "\n",
        "5.   Calculamos el fitness como la suma de todas las distancias por cada solución que se genera.\n",
        "6. La población inicial para el algoritmo genético. Recibe el número de individuos en la población (num_individuos) y el número de nodos (ciudades) en el grafo (num_nodos). Genera individuos aleatorios, donde cada individuo es una lista de índices de ciudades permutados al azar.\n",
        "7. Escogemos a las mejores soluciones por su fitness o aptitud, para asegurar que nuestra solución será mejor (para resolver el problema).\n",
        "8. Luego hacemos el cruce o combinación, pero tomando dos puntos de corte para producir decendencia más variada.\n",
        "9. La mutación opera intercambiando dos genes de posición, es decir, esocojo dos genes del cromosoma y los cambio de posición. (Se supone que cada cromosoma/solución no repite genes)\n",
        "10. Retornamos la nueva generación\n",
        "\n"
      ]
    },
    {
      "cell_type": "code",
      "execution_count": 2,
      "metadata": {
        "id": "XdMNlunmoB6n"
      },
      "outputs": [],
      "source": [
        "# Función para evaluar la aptitud (distancia total recorrida)\n",
        "def evaluar_fitness(solucion):\n",
        "    total_distance = 0\n",
        "    for i in range(len(solucion) - 1):\n",
        "        current_city = solucion[i]\n",
        "        next_city = solucion[i + 1]\n",
        "        total_distance += distances[current_city][next_city]\n",
        "    return total_distance\n",
        "\n",
        "# Generar población inicial\n",
        "def generar_poblacion_inicial(num_individuos, num_nodos):\n",
        "    poblacion = []\n",
        "    for _ in range(num_individuos):\n",
        "        individuo = random.sample(range(num_nodos), num_nodos)\n",
        "        poblacion.append(individuo)\n",
        "    return poblacion\n",
        "\n",
        "# Generar la siguiente generación utilizando selección por torneo y operador de cruce de orden\n",
        "def generar_nueva_generacion(poblacion, num_padres, probabilidad_mutacion):\n",
        "    nueva_generacion = []\n",
        "    \n",
        "    # Realizar torneo para seleccionar padres\n",
        "    for _ in range(num_padres):\n",
        "        torneo = random.sample(poblacion, 5)\n",
        "        mejor_individuo = min(torneo, key=lambda x: evaluar_fitness(x))\n",
        "        nueva_generacion.append(mejor_individuo)\n",
        "    \n",
        "    # Operador de cruce de orden\n",
        "    while len(nueva_generacion) < len(poblacion):\n",
        "        padre1 = random.choice(nueva_generacion)\n",
        "        padre2 = random.choice(nueva_generacion)\n",
        "        \n",
        "        punto_corte1 = random.randint(0, len(padre1) - 2)\n",
        "        punto_corte2 = random.randint(punto_corte1 + 1, len(padre1) - 1)\n",
        "        \n",
        "        hijo = [-1] * len(padre1)\n",
        "        hijo[punto_corte1:punto_corte2 + 1] = padre1[punto_corte1:punto_corte2 + 1]\n",
        "        \n",
        "        idx = punto_corte2 + 1\n",
        "        for i in range(len(padre2)):\n",
        "            if idx == len(padre2):\n",
        "                idx = 0\n",
        "            if padre2[i] not in hijo:\n",
        "                hijo[idx] = padre2[i]\n",
        "                idx += 1\n",
        "        \n",
        "        nueva_generacion.append(hijo)\n",
        "    \n",
        "    # Aplicar mutación\n",
        "    for individuo in nueva_generacion:\n",
        "        if random.random() < probabilidad_mutacion:\n",
        "            idx1, idx2 = random.sample(range(len(individuo)), 2)\n",
        "            individuo[idx1], individuo[idx2] = individuo[idx2], individuo[idx1]\n",
        "    \n",
        "    return nueva_generacion\n"
      ]
    },
    {
      "cell_type": "markdown",
      "metadata": {
        "id": "nuqLGJE50oj7"
      },
      "source": [
        "11. Definimos los parametros del Algoritmo.\n",
        "12. Luego generamos nuestra población inicial.\n",
        "13. Luego iteramos tantas veces como generaciones queramos. En cada iteración calculamos el fitness de la población actual, luegos tomamos la solución que menor fitness tenga, debido a que loa distancia total de cada solución es su fitnees, una distancia menor es un menor fitness, y eso es lo que buscamos, que se demore menos. Una vez tengamos los mejores fitness, escogemos una nueva población, es decir, una generación."
      ]
    },
    {
      "cell_type": "code",
      "execution_count": null,
      "metadata": {
        "colab": {
          "base_uri": "https://localhost:8080/",
          "height": 1000
        },
        "id": "aptyAFi6jI1W",
        "outputId": "5252d00f-d036-49c5-918c-6d11a3d5ae4a"
      },
      "outputs": [],
      "source": [
        "# Parámetros del algoritmo genético\n",
        "num_generaciones = 1000\n",
        "num_individuos = 27\n",
        "num_padres = 10\n",
        "probabilidad_mutacion = 0.05\n",
        "\n",
        "# Obtener el número de nodos\n",
        "num_nodos = len(ciudades)\n",
        "\n",
        "# Generar población inicial\n",
        "poblacion = generar_poblacion_inicial(num_individuos, num_nodos)\n",
        "\n",
        "# Variables para guardar la evolución de la mejor distancia\n",
        "mejores_distancias = []\n",
        "mejor_solucion = None\n",
        "\n",
        "# Ejecutar el algoritmo genético\n",
        "for i in range(num_generaciones):\n",
        "    # Calcular la distancia de la población actual\n",
        "    distancias = [evaluar_fitness(individuo) for individuo in poblacion]\n",
        "    \n",
        "    # Encontrar y guardar la mejor solución actual\n",
        "    mejor_solucion_actual = min(poblacion, key=lambda x: evaluar_fitness(x))\n",
        "    if mejor_solucion is None or evaluar_fitness(mejor_solucion_actual) < evaluar_fitness(mejor_solucion):\n",
        "        mejor_solucion = mejor_solucion_actual\n",
        "    \n",
        "    # Guardar la mejor distancia de la generación actual\n",
        "    mejores_distancias.append(evaluar_fitness(mejor_solucion))\n",
        "    \n",
        "    # Generar la siguiente generación\n",
        "    poblacion = generar_nueva_generacion(poblacion, num_padres, probabilidad_mutacion)\n",
        "\n",
        "# Graficar el grafo completo\n",
        "grafo = nx.Graph()\n",
        "for ciudad in ciudades:\n",
        "    x = coordenadas[ciudades.index(ciudad)][0]\n",
        "    y = coordenadas[ciudades.index(ciudad)][1]\n",
        "    grafo.add_node(ciudad, pos=(x, y))\n",
        "\n",
        "for nodo1, nodo2 in itertools.combinations(ciudades, 2):\n",
        "    grafo.add_edge(nodo1, nodo2, weight=distances[ciudades.index(nodo1)][ciudades.index(nodo2)])\n",
        "\n",
        "pos = nx.get_node_attributes(grafo, 'pos')\n",
        "labels = {nodo: nodo for nodo in grafo.nodes()}\n",
        "nx.draw_networkx(grafo, pos, labels=labels, with_labels=True, node_color='skyblue', edge_color='gray')\n",
        "plt.title('Grafo Completo')\n",
        "plt.xlabel('Coordenada X')\n",
        "plt.ylabel('Coordenada Y')\n",
        "plt.grid(True)\n",
        "plt.show()\n",
        "\n",
        "# Imprimir el recorrido del viajante de comercio\n",
        "print(\"Mejor Recorrido:\")\n",
        "for i in range(len(mejor_solucion)):\n",
        "    print(ciudades[mejor_solucion[i]], end=' -> ')\n",
        "print(ciudades[mejor_solucion[0]])\n",
        "\n",
        "# Imprimir su distancia\n",
        "print(\"Distancia:\", evaluar_fitness(mejor_solucion))\n",
        "\n",
        "# Graficar el recorrido de la mejor solución\n",
        "mejor_rec = mejor_solucion + [mejor_solucion[0]]  # Cerrar el ciclo\n",
        "x = [coordenadas[nodo][0] for nodo in mejor_rec]\n",
        "y = [coordenadas[nodo][1] for nodo in mejor_rec]\n",
        "plt.figure(figsize=(8, 8))\n",
        "plt.plot(x, y, 'bo-')\n",
        "plt.title('Recorrido del Viajante de Comercio')\n",
        "plt.xlabel('Coordenada X')\n",
        "plt.ylabel('Coordenada Y')\n",
        "plt.show()\n",
        "\n",
        "# Graficar fitness vs generación\n",
        "generaciones = range(num_generaciones)\n",
        "plt.plot(generaciones, mejores_distancias)\n",
        "plt.title('Mejor Distancia por Generación')\n",
        "plt.xlabel('Generación')\n",
        "plt.ylabel('Mejor Distancia')\n",
        "plt.show()"
      ]
    },
    {
      "cell_type": "markdown",
      "metadata": {
        "id": "kT8iD1sU5xXa"
      },
      "source": [
        "En la grafica de Mejor distancia vs generación, vemos que con el pasar las generaciones obtenemos recorridos que demoran menos."
      ]
    },
    {
      "cell_type": "markdown",
      "metadata": {
        "id": "tjdfRq0zo8Pw"
      },
      "source": [
        "#Ciudades_TSP"
      ]
    },
    {
      "cell_type": "markdown",
      "metadata": {
        "id": "LCIf40Yao3Tj"
      },
      "source": [
        "\n",
        "\n",
        "1.   Primero, como nada más tenemos las coordenadas de las ciudades, lo primero que hay que hacer es hallar las distancias entre todos los nodos. Para eso usamos la formula de la distancia euclidiana\n",
        "\n",
        "2. Luego, tenemos la función evaluar-fitness donde por cada individuo (es decir, un recorrido) vamos sumando las distancias que hay en el.\n",
        "\n",
        "3. Para escoger a los padres, hallamos las probabilidades de cada individuo frente a la población actual. Luego se escogen los padres en función de esas probabilidades. Un individuo puede ser seleccionado como padre varias veces.\n",
        "\n",
        "4. En la función recombinar, se esocoge un punto de corte por parejas de padres y luego se combinan las partes de los padres para formar a los hijos.\n",
        "\n",
        "5. La mutación funciona intercambiando la posición de dos genes de cada individuo.\n",
        "\n",
        "6. La función generar_nueva_decendencia, combina las funciones anteriores para generar una nueva generación de individuos.\n",
        "\n",
        "7. La función encontrar_mejor_solución lo que hace es buscar al individuo con menor distancia total de recorrido.\n",
        "\n"
      ]
    },
    {
      "cell_type": "code",
      "execution_count": 6,
      "metadata": {
        "id": "ZV8HxRcykZjO"
      },
      "outputs": [],
      "source": [
        "def distancia_euclidiana(nodo1, nodo2, coordenadas):\n",
        "    x1, y1 = coordenadas[nodo1 * 2], coordenadas[nodo1 * 2 + 1]\n",
        "    x2, y2 = coordenadas[nodo2 * 2], coordenadas[nodo2 * 2 + 1]\n",
        "    distancia = np.sqrt((x2 - x1)**2 + (y2 - y1)**2)\n",
        "    return distancia\n",
        "\n",
        "def evaluar_fitness(individuo, coordenadas):\n",
        "    distancia = 0\n",
        "    for i in range(len(individuo) - 1):\n",
        "        nodo_actual = individuo[i]\n",
        "        nodo_siguiente = individuo[i + 1]\n",
        "        distancia += distancia_euclidiana(nodo_actual, nodo_siguiente, coordenadas)\n",
        "    return distancia\n",
        "\n",
        "def seleccionar_padres(poblacion, num_padres):\n",
        "    padres = []\n",
        "    fitness_total = sum(evaluar_fitness(individuo, coordenadas) for individuo in poblacion)\n",
        "    probabilidades = [evaluar_fitness(individuo, coordenadas) / fitness_total for individuo in poblacion]\n",
        "    for _ in range(num_padres):\n",
        "        padre = random.choices(poblacion, weights=probabilidades)[0]\n",
        "        padres.append(padre)\n",
        "    return padres\n",
        "\n",
        "def recombinar(padre1, padre2):\n",
        "    punto_corte = random.randint(0, len(padre1) - 1)\n",
        "    hijo1 = padre1[:punto_corte] + [nodo for nodo in padre2 if nodo not in padre1[:punto_corte]]\n",
        "    hijo2 = padre2[:punto_corte] + [nodo for nodo in padre1 if nodo not in padre2[:punto_corte]]\n",
        "    return hijo1, hijo2\n",
        "\n",
        "def mutar(individuo, probabilidad_mutacion):\n",
        "    if random.random() < probabilidad_mutacion:\n",
        "        i, j = random.sample(range(len(individuo)), 2)\n",
        "        individuo[i], individuo[j] = individuo[j], individuo[i]\n",
        "    return individuo\n",
        "\n",
        "def generar_nueva_generacion(poblacion, num_padres, probabilidad_mutacion, coordenadas):\n",
        "    padres = seleccionar_padres(poblacion, num_padres)\n",
        "    descendencia = []\n",
        "    while len(descendencia) < len(poblacion):\n",
        "        padre1, padre2 = random.sample(padres, 2)\n",
        "        hijo1, hijo2 = recombinar(padre1, padre2)\n",
        "        hijo1 = mutar(hijo1, probabilidad_mutacion)\n",
        "        hijo2 = mutar(hijo2, probabilidad_mutacion)\n",
        "        descendencia.extend([hijo1, hijo2])\n",
        "    return descendencia[:len(poblacion)]\n",
        "\n",
        "def encontrar_mejor_solucion(poblacion, coordenadas):\n",
        "    mejor_distancia = float('inf')\n",
        "    mejor_solucion = None\n",
        "    for individuo in poblacion:\n",
        "        distancia = evaluar_fitness(individuo, coordenadas)\n",
        "        if distancia < mejor_distancia:\n",
        "            mejor_distancia = distancia\n",
        "            mejor_solucion = individuo\n",
        "    return mejor_solucion\n",
        "\n",
        "def leer_coordenadas(nombre_archivo):\n",
        "    coordenadas = []\n",
        "    with open(nombre_archivo, 'r') as archivo:\n",
        "        lineas = archivo.readlines()\n",
        "        for linea in lineas:\n",
        "            coordenada = int(linea.strip())\n",
        "            coordenadas.append(coordenada)\n",
        "    return coordenadas"
      ]
    },
    {
      "cell_type": "markdown",
      "metadata": {
        "id": "LsIzm_GP-6wj"
      },
      "source": [
        "8. En primer lugar, se utiliza la función generar_poblacion_inicial para generar una población inicial de individuos. Cada individuo es una lista de nodos que representa un posible recorrido del viajante de comercio. Se generan num_individuos individuos de manera aleatoria utilizando la función random.sample para garantizar que no haya nodos repetidos en cada individuo.\n",
        "\n",
        "9. Luego, se ejecuta el algoritmo genético en un bucle for que itera num_generaciones veces. En cada iteración, se calcula la distancia de cada individuo en la población actual utilizando la función evaluar_fitness, que suma las distancias entre nodos consecutivos en el recorrido. También se encuentra y guarda la mejor solución actual utilizando la función encontrar_mejor_solucion.\n",
        "\n",
        "10. A continuación, se genera la siguiente generación de individuos utilizando la función generar_nueva_generacion. En esta función, se seleccionan los padres mediante el método de selección proporcional al fitness, se realiza la recombinación y la mutación para generar la descendencia.\n",
        "\n",
        "11. Una vez finalizadas las iteraciones del bucle, se tienen los resultados finales. Se grafica el grafo completo que representa todas las ciudades, y se muestra el recorrido de la mejor solución encontrada en forma de grafo. También se calcula y muestra la distancia total de la mejor solución, así como el recorrido en forma de lista."
      ]
    },
    {
      "cell_type": "markdown",
      "metadata": {
        "id": "86j2pRmEoB5R"
      },
      "source": [
        "##Para 100 ciudades\n"
      ]
    },
    {
      "cell_type": "code",
      "execution_count": 16,
      "metadata": {
        "id": "DQxoy7LhkevP"
      },
      "outputs": [],
      "source": [
        "# Leer coordenadas desde archivo\n",
        "coordenadas = leer_coordenadas('map_city100.tsp')\n",
        "\n",
        "# Parámetros del algoritmo genético\n",
        "num_nodos = len(coordenadas) // 2\n",
        "num_individuos = 100\n",
        "num_generaciones = 10\n",
        "num_padres = 100\n",
        "probabilidad_mutacion = 0.1"
      ]
    },
    {
      "cell_type": "code",
      "execution_count": null,
      "metadata": {
        "colab": {
          "base_uri": "https://localhost:8080/",
          "height": 1000
        },
        "id": "yM6BLVOFkiDX",
        "outputId": "4430721b-f886-4283-a84b-0879e858df9e"
      },
      "outputs": [],
      "source": [
        "# Generar población inicial\n",
        "def generar_poblacion_inicial(num_individuos, num_nodos):\n",
        "    poblacion = []\n",
        "    for _ in range(num_individuos):\n",
        "        individuo = random.sample(range(num_nodos), num_nodos)\n",
        "        poblacion.append(individuo)\n",
        "    return poblacion\n",
        "\n",
        "poblacion = generar_poblacion_inicial(num_individuos, num_nodos)\n",
        "\n",
        "# Variables para guardar la evolución de la mejor distancia\n",
        "mejores_distancias = []\n",
        "mejor_solucion = None\n",
        "\n",
        "# Ejecutar el algoritmo genético\n",
        "for i in range(num_generaciones):\n",
        "    # Calcular la distancia de la población actual\n",
        "    distancias = [evaluar_fitness(individuo, coordenadas) for individuo in poblacion]\n",
        "    \n",
        "    # Encontrar y guardar la mejor solución actual\n",
        "    mejor_solucion_actual = encontrar_mejor_solucion(poblacion, coordenadas)\n",
        "    if mejor_solucion is None or evaluar_fitness(mejor_solucion_actual, coordenadas) < evaluar_fitness(mejor_solucion, coordenadas):\n",
        "        mejor_solucion = mejor_solucion_actual\n",
        "    \n",
        "    # Guardar la mejor distancia de la generación actual\n",
        "    mejores_distancias.append(evaluar_fitness(mejor_solucion, coordenadas))\n",
        "    \n",
        "    # Generar la siguiente generación\n",
        "    poblacion = generar_nueva_generacion(poblacion, num_padres, probabilidad_mutacion, coordenadas)\n",
        "\n",
        "# Graficar el grafo completo\n",
        "grafo = nx.Graph()\n",
        "for i in range(num_nodos):\n",
        "    x = coordenadas[i * 2]\n",
        "    y = coordenadas[i * 2 + 1]\n",
        "    grafo.add_node(i, pos=(x, y))\n",
        "\n",
        "for nodo1, nodo2 in itertools.combinations(range(num_nodos), 2):\n",
        "    grafo.add_edge(nodo1, nodo2, weight=distancia_euclidiana(nodo1, nodo2, coordenadas))\n",
        "\n",
        "pos = nx.get_node_attributes(grafo, 'pos')\n",
        "labels = {nodo: str(nodo) for nodo in grafo.nodes()}\n",
        "nx.draw_networkx(grafo, pos, labels=labels, with_labels=True, node_color='skyblue', edge_color='gray')\n",
        "plt.title('Grafo Completo')\n",
        "plt.xlabel('Coordenada X')\n",
        "plt.ylabel('Coordenada Y')\n",
        "plt.grid(True)\n",
        "plt.show()\n",
        "\n",
        "# Calcular y mostrar la aptitud de la solución final\n",
        "print(\"Distancia:\", evaluar_fitness(mejor_solucion, coordenadas))\n",
        "# Mostrar el recorrido en consola\n",
        "print(\"Mejor recorrido:\")\n",
        "for nodo in mejor_solucion:\n",
        "    print(nodo, end=' -> ')\n",
        "print(mejor_solucion[0])\n",
        "\n",
        "# Graficar el recorrido de la mejor solución\n",
        "mejor_rec = mejor_solucion + [mejor_solucion[0]]  # Cerrar el ciclo\n",
        "x = [coordenadas[nodo * 2] for nodo in mejor_rec]\n",
        "y = [coordenadas[nodo * 2 + 1] for nodo in mejor_rec]\n",
        "plt.figure(figsize=(8, 8))\n",
        "plt.plot(x, y, 'bo-')\n",
        "plt.title('Recorrido del Viajante de Comercio')\n",
        "plt.xlabel('Coordenada X')\n",
        "plt.ylabel('Coordenada Y')\n",
        "plt.show()\n",
        "\n",
        "# Graficar fitness vs generación\n",
        "generaciones = range(num_generaciones)\n",
        "plt.plot(generaciones, mejores_distancias)\n",
        "plt.title('Mejor Distancia por Generación')\n",
        "plt.xlabel('Generación')\n",
        "plt.ylabel('Mejor Distancia')\n",
        "plt.show()"
      ]
    },
    {
      "cell_type": "markdown",
      "metadata": {
        "id": "QnhHD886oH3z"
      },
      "source": [
        "##Para 400 ciudades\n"
      ]
    },
    {
      "cell_type": "code",
      "execution_count": 7,
      "metadata": {
        "id": "fSeyV99doTR9"
      },
      "outputs": [],
      "source": [
        "# Leer coordenadas desde archivo\n",
        "coordenadas = leer_coordenadas('map_city400.tsp')\n",
        "\n",
        "# Parámetros del algoritmo genético\n",
        "num_nodos = len(coordenadas) // 2\n",
        "num_individuos = 400\n",
        "num_generaciones = 10\n",
        "num_padres = 100\n",
        "probabilidad_mutacion = 0.1"
      ]
    },
    {
      "cell_type": "code",
      "execution_count": null,
      "metadata": {
        "colab": {
          "base_uri": "https://localhost:8080/",
          "height": 1000
        },
        "id": "zMBCLgfRoZet",
        "outputId": "9d0569e0-6e57-48c4-9a5e-d36e24b034f0"
      },
      "outputs": [],
      "source": [
        "# Generar población inicial\n",
        "def generar_poblacion_inicial(num_individuos, num_nodos):\n",
        "    poblacion = []\n",
        "    for _ in range(num_individuos):\n",
        "        individuo = random.sample(range(num_nodos), num_nodos)\n",
        "        poblacion.append(individuo)\n",
        "    return poblacion\n",
        "\n",
        "poblacion = generar_poblacion_inicial(num_individuos, num_nodos)\n",
        "\n",
        "# Variables para guardar la evolución de la mejor distancia\n",
        "mejores_distancias = []\n",
        "mejor_solucion = None\n",
        "\n",
        "# Ejecutar el algoritmo genético\n",
        "for i in range(num_generaciones):\n",
        "    # Calcular la distancia de la población actual\n",
        "    distancias = [evaluar_fitness(individuo, coordenadas) for individuo in poblacion]\n",
        "    \n",
        "    # Encontrar y guardar la mejor solución actual\n",
        "    mejor_solucion_actual = encontrar_mejor_solucion(poblacion, coordenadas)\n",
        "    if mejor_solucion is None or evaluar_fitness(mejor_solucion_actual, coordenadas) < evaluar_fitness(mejor_solucion, coordenadas):\n",
        "        mejor_solucion = mejor_solucion_actual\n",
        "    \n",
        "    # Guardar la mejor distancia de la generación actual\n",
        "    mejores_distancias.append(evaluar_fitness(mejor_solucion, coordenadas))\n",
        "    \n",
        "    # Generar la siguiente generación\n",
        "    poblacion = generar_nueva_generacion(poblacion, num_padres, probabilidad_mutacion, coordenadas)\n",
        "\n",
        "# Graficar el grafo completo\n",
        "grafo = nx.Graph()\n",
        "for i in range(num_nodos):\n",
        "    x = coordenadas[i * 2]\n",
        "    y = coordenadas[i * 2 + 1]\n",
        "    grafo.add_node(i, pos=(x, y))\n",
        "\n",
        "for nodo1, nodo2 in itertools.combinations(range(num_nodos), 2):\n",
        "    grafo.add_edge(nodo1, nodo2, weight=distancia_euclidiana(nodo1, nodo2, coordenadas))\n",
        "\n",
        "pos = nx.get_node_attributes(grafo, 'pos')\n",
        "labels = {nodo: str(nodo) for nodo in grafo.nodes()}\n",
        "nx.draw_networkx(grafo, pos, labels=labels, with_labels=True, node_color='skyblue', edge_color='gray')\n",
        "plt.title('Grafo Completo')\n",
        "plt.xlabel('Coordenada X')\n",
        "plt.ylabel('Coordenada Y')\n",
        "plt.grid(True)\n",
        "plt.show()\n",
        "\n",
        "\n",
        "# Calcular y mostrar la aptitud de la solución final\n",
        "print(\"Distancia:\", evaluar_fitness(mejor_solucion, coordenadas))\n",
        "# Mostrar el recorrido en consola\n",
        "print(\"Mejor recorrido:\")\n",
        "for nodo in mejor_solucion:\n",
        "    print(nodo, end=' -> ')\n",
        "print(mejor_solucion[0])\n",
        "\n",
        "# Graficar el recorrido de la mejor solución\n",
        "mejor_rec = mejor_solucion + [mejor_solucion[0]]  # Cerrar el ciclo\n",
        "x = [coordenadas[nodo * 2] for nodo in mejor_rec]\n",
        "y = [coordenadas[nodo * 2 + 1] for nodo in mejor_rec]\n",
        "plt.figure(figsize=(8, 8))\n",
        "plt.plot(x, y, 'bo-')\n",
        "plt.title('Recorrido del Viajante de Comercio')\n",
        "plt.xlabel('Coordenada X')\n",
        "plt.ylabel('Coordenada Y')\n",
        "plt.show()\n",
        "\n",
        "# Graficar fitness vs generación\n",
        "generaciones = range(num_generaciones)\n",
        "plt.plot(generaciones, mejores_distancias)\n",
        "plt.title('Mejor Distancia por Generación')\n",
        "plt.xlabel('Generación')\n",
        "plt.ylabel('Mejor Distancia')\n",
        "plt.show()"
      ]
    },
    {
      "cell_type": "markdown",
      "metadata": {
        "id": "dM0mKDydoK_J"
      },
      "source": [
        "##Para 724 ciudades\n"
      ]
    },
    {
      "cell_type": "code",
      "execution_count": 10,
      "metadata": {
        "id": "0INqXSGmoUg-"
      },
      "outputs": [],
      "source": [
        "# Leer coordenadas desde archivo\n",
        "coordenadas = leer_coordenadas('map_city724.tsp')\n",
        "\n",
        "# Parámetros del algoritmo genético\n",
        "num_nodos = len(coordenadas) // 2\n",
        "num_individuos = 724\n",
        "num_generaciones = 100\n",
        "num_padres = 362\n",
        "probabilidad_mutacion = 0.1"
      ]
    },
    {
      "cell_type": "code",
      "execution_count": null,
      "metadata": {
        "colab": {
          "base_uri": "https://localhost:8080/",
          "height": 1000
        },
        "id": "urm5Qt0soaKR",
        "outputId": "3877ca00-b923-4195-9ab2-de85e9df6615"
      },
      "outputs": [],
      "source": [
        "# Generar población inicial\n",
        "def generar_poblacion_inicial(num_individuos, num_nodos):\n",
        "    poblacion = []\n",
        "    for _ in range(num_individuos):\n",
        "        individuo = random.sample(range(num_nodos), num_nodos)\n",
        "        poblacion.append(individuo)\n",
        "    return poblacion\n",
        "\n",
        "poblacion = generar_poblacion_inicial(num_individuos, num_nodos)\n",
        "\n",
        "# Variables para guardar la evolución de la mejor distancia\n",
        "mejores_distancias = []\n",
        "mejor_solucion = None\n",
        "\n",
        "# Ejecutar el algoritmo genético\n",
        "for i in range(num_generaciones):\n",
        "    # Calcular la distancia de la población actual\n",
        "    distancias = [evaluar_fitness(individuo, coordenadas) for individuo in poblacion]\n",
        "    \n",
        "    # Encontrar y guardar la mejor solución actual\n",
        "    mejor_solucion_actual = encontrar_mejor_solucion(poblacion, coordenadas)\n",
        "    if mejor_solucion is None or evaluar_fitness(mejor_solucion_actual, coordenadas) < evaluar_fitness(mejor_solucion, coordenadas):\n",
        "        mejor_solucion = mejor_solucion_actual\n",
        "    \n",
        "    # Guardar la mejor distancia de la generación actual\n",
        "    mejores_distancias.append(evaluar_fitness(mejor_solucion, coordenadas))\n",
        "    \n",
        "    # Generar la siguiente generación\n",
        "    poblacion = generar_nueva_generacion(poblacion, num_padres, probabilidad_mutacion, coordenadas)\n",
        "\n",
        "# Graficar el grafo completo\n",
        "grafo = nx.Graph()\n",
        "for i in range(num_nodos):\n",
        "    x = coordenadas[i * 2]\n",
        "    y = coordenadas[i * 2 + 1]\n",
        "    grafo.add_node(i, pos=(x, y))\n",
        "\n",
        "for nodo1, nodo2 in itertools.combinations(range(num_nodos), 2):\n",
        "    grafo.add_edge(nodo1, nodo2, weight=distancia_euclidiana(nodo1, nodo2, coordenadas))\n",
        "\n",
        "pos = nx.get_node_attributes(grafo, 'pos')\n",
        "labels = {nodo: str(nodo) for nodo in grafo.nodes()}\n",
        "nx.draw_networkx(grafo, pos, labels=labels, with_labels=True, node_color='skyblue', edge_color='gray')\n",
        "plt.title('Grafo Completo')\n",
        "plt.xlabel('Coordenada X')\n",
        "plt.ylabel('Coordenada Y')\n",
        "plt.grid(True)\n",
        "plt.show()\n",
        "\n",
        "# Calcular y mostrar la aptitud de la solución final\n",
        "print(\"Distancia:\", evaluar_fitness(mejor_solucion, coordenadas))\n",
        "# Mostrar el recorrido en consola\n",
        "print(\"Mejor recorrido:\")\n",
        "for nodo in mejor_solucion:\n",
        "    print(nodo, end=' -> ')\n",
        "print(mejor_solucion[0])\n",
        "\n",
        "# Graficar el recorrido de la mejor solución\n",
        "mejor_rec = mejor_solucion + [mejor_solucion[0]]  # Cerrar el ciclo\n",
        "x = [coordenadas[nodo * 2] for nodo in mejor_rec]\n",
        "y = [coordenadas[nodo * 2 + 1] for nodo in mejor_rec]\n",
        "plt.figure(figsize=(8, 8))\n",
        "plt.plot(x, y, 'bo-')\n",
        "plt.title('Recorrido del Viajante de Comercio')\n",
        "plt.xlabel('Coordenada X')\n",
        "plt.ylabel('Coordenada Y')\n",
        "plt.show()\n",
        "\n",
        "# Graficar fitness vs generación\n",
        "generaciones = range(num_generaciones)\n",
        "plt.plot(generaciones, mejores_distancias)\n",
        "plt.title('Mejor Distancia por Generación')\n",
        "plt.xlabel('Generación')\n",
        "plt.ylabel('Mejor Distancia')\n",
        "plt.show()"
      ]
    },
    {
      "cell_type": "markdown",
      "metadata": {
        "id": "cODF2j5NoNEp"
      },
      "source": [
        "##Para 1173 ciudades\n"
      ]
    },
    {
      "cell_type": "code",
      "execution_count": 14,
      "metadata": {
        "id": "1I-VU04ToVQF"
      },
      "outputs": [],
      "source": [
        "# Leer coordenadas desde archivo\n",
        "coordenadas = leer_coordenadas('map_city1173.tsp')\n",
        "\n",
        "# Parámetros del algoritmo genético\n",
        "num_nodos = len(coordenadas) // 2\n",
        "num_individuos = 1173\n",
        "num_generaciones = 10\n",
        "num_padres = 293\n",
        "probabilidad_mutacion = 0.1"
      ]
    },
    {
      "cell_type": "code",
      "execution_count": null,
      "metadata": {
        "colab": {
          "base_uri": "https://localhost:8080/",
          "height": 1000
        },
        "id": "YHeq61gkobBw",
        "outputId": "4f761742-b6e5-426b-8aae-5e364209014c"
      },
      "outputs": [],
      "source": [
        "# Generar población inicial\n",
        "def generar_poblacion_inicial(num_individuos, num_nodos):\n",
        "    poblacion = []\n",
        "    for _ in range(num_individuos):\n",
        "        individuo = random.sample(range(num_nodos), num_nodos)\n",
        "        poblacion.append(individuo)\n",
        "    return poblacion\n",
        "\n",
        "poblacion = generar_poblacion_inicial(num_individuos, num_nodos)\n",
        "\n",
        "# Variables para guardar la evolución de la mejor distancia\n",
        "mejores_distancias = []\n",
        "mejor_solucion = None\n",
        "\n",
        "# Ejecutar el algoritmo genético\n",
        "for i in range(num_generaciones):\n",
        "    # Calcular la distancia de la población actual\n",
        "    distancias = [evaluar_fitness(individuo, coordenadas) for individuo in poblacion]\n",
        "    \n",
        "    # Encontrar y guardar la mejor solución actual\n",
        "    mejor_solucion_actual = encontrar_mejor_solucion(poblacion, coordenadas)\n",
        "    if mejor_solucion is None or evaluar_fitness(mejor_solucion_actual, coordenadas) < evaluar_fitness(mejor_solucion, coordenadas):\n",
        "        mejor_solucion = mejor_solucion_actual\n",
        "    \n",
        "    # Guardar la mejor distancia de la generación actual\n",
        "    mejores_distancias.append(evaluar_fitness(mejor_solucion, coordenadas))\n",
        "    \n",
        "    # Generar la siguiente generación\n",
        "    poblacion = generar_nueva_generacion(poblacion, num_padres, probabilidad_mutacion, coordenadas)\n",
        "\n",
        "# Graficar el grafo completo\n",
        "grafo = nx.Graph()\n",
        "for i in range(num_nodos):\n",
        "    x = coordenadas[i * 2]\n",
        "    y = coordenadas[i * 2 + 1]\n",
        "    grafo.add_node(i, pos=(x, y))\n",
        "\n",
        "for nodo1, nodo2 in itertools.combinations(range(num_nodos), 2):\n",
        "    grafo.add_edge(nodo1, nodo2, weight=distancia_euclidiana(nodo1, nodo2, coordenadas))\n",
        "\n",
        "pos = nx.get_node_attributes(grafo, 'pos')\n",
        "labels = {nodo: str(nodo) for nodo in grafo.nodes()}\n",
        "nx.draw_networkx(grafo, pos, labels=labels, with_labels=True, node_color='skyblue', edge_color='gray')\n",
        "plt.title('Grafo Completo')\n",
        "plt.xlabel('Coordenada X')\n",
        "plt.ylabel('Coordenada Y')\n",
        "plt.grid(True)\n",
        "plt.show()\n",
        "\n",
        "# Calcular y mostrar la aptitud de la solución final\n",
        "print(\"Distancia:\", evaluar_fitness(mejor_solucion, coordenadas))\n",
        "# Mostrar el recorrido en consola\n",
        "print(\"Mejor recorrido:\")\n",
        "for nodo in mejor_solucion:\n",
        "    print(nodo, end=' -> ')\n",
        "print(mejor_solucion[0])\n",
        "\n",
        "# Graficar el recorrido de la mejor solución\n",
        "mejor_rec = mejor_solucion + [mejor_solucion[0]]  # Cerrar el ciclo\n",
        "x = [coordenadas[nodo * 2] for nodo in mejor_rec]\n",
        "y = [coordenadas[nodo * 2 + 1] for nodo in mejor_rec]\n",
        "plt.figure(figsize=(8, 8))\n",
        "plt.plot(x, y, 'bo-')\n",
        "plt.title('Recorrido del Viajante de Comercio')\n",
        "plt.xlabel('Coordenada X')\n",
        "plt.ylabel('Coordenada Y')\n",
        "plt.show()\n",
        "\n",
        "# Graficar fitness vs generación\n",
        "generaciones = range(num_generaciones)\n",
        "plt.plot(generaciones, mejores_distancias)\n",
        "plt.title('Mejor Distancia por Generación')\n",
        "plt.xlabel('Generación')\n",
        "plt.ylabel('Mejor Distancia')\n",
        "plt.show()"
      ]
    }
  ],
  "metadata": {
    "colab": {
      "provenance": []
    },
    "kernelspec": {
      "display_name": "Python 3",
      "name": "python3"
    },
    "language_info": {
      "name": "python"
    }
  },
  "nbformat": 4,
  "nbformat_minor": 0
}
